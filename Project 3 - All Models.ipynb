{
 "cells": [
  {
   "cell_type": "markdown",
   "metadata": {},
   "source": [
    "# Imports"
   ]
  },
  {
   "cell_type": "code",
   "execution_count": 3,
   "metadata": {},
   "outputs": [],
   "source": [
    "import pandas as pd\n",
    "import numpy as np\n",
    "\n",
    "import matplotlib.pyplot as plt\n",
    "import seaborn as sns\n",
    "plt.style.use('ggplot')\n",
    "\n",
    "%matplotlib inline\n",
    "\n",
    "from sklearn.model_selection import train_test_split\n",
    "from sklearn.metrics import precision_score, recall_score, accuracy_score, roc_auc_score\n",
    "from sklearn.metrics import roc_auc_score, roc_curve\n",
    "from sklearn.metrics import log_loss\n",
    "from sklearn.metrics import confusion_matrix\n",
    "from sklearn.preprocessing import StandardScaler\n",
    "from sklearn import metrics\n",
    "\n",
    "import re\n",
    "\n",
    "from sklearn.model_selection import train_test_split\n",
    "from sklearn.model_selection import cross_val_score\n",
    "\n",
    "# Additional Classification models\n",
    "from sklearn.linear_model import LogisticRegression\n",
    "from sklearn.neighbors import KNeighborsClassifier\n",
    "from sklearn.naive_bayes import GaussianNB\n",
    "from sklearn.svm import SVC\n",
    "from sklearn.tree import DecisionTreeClassifier\n",
    "from sklearn.ensemble import RandomForestClassifier\n"
   ]
  },
  {
   "cell_type": "code",
   "execution_count": 4,
   "metadata": {},
   "outputs": [],
   "source": [
    "il_df = pd.read_excel('il_data3.xlsx')"
   ]
  },
  {
   "cell_type": "markdown",
   "metadata": {},
   "source": [
    "# Data Prep"
   ]
  },
  {
   "cell_type": "code",
   "execution_count": 5,
   "metadata": {},
   "outputs": [
    {
     "name": "stdout",
     "output_type": "stream",
     "text": [
      "<class 'pandas.core.frame.DataFrame'>\n",
      "RangeIndex: 37011 entries, 0 to 37010\n",
      "Data columns (total 39 columns):\n",
      "entry_date                37011 non-null datetime64[ns]\n",
      "zipcode                   37011 non-null int64\n",
      "city-state                37011 non-null object\n",
      "medianlistingprice        37011 non-null float64\n",
      "medianlistingprice_mm     37011 non-null float64\n",
      "medianlistingprice_yy     37011 non-null float64\n",
      "activelistingcount        37011 non-null float64\n",
      "activelistingcount_mm     37011 non-null float64\n",
      "activelistingcount_yy     37011 non-null float64\n",
      "daysonmarket              37011 non-null float64\n",
      "daysonmarket_mm           37011 non-null float64\n",
      "daysonmarket_yy           37011 non-null float64\n",
      "newlistingcount           37011 non-null int64\n",
      "newlistingcount_mm        37011 non-null float64\n",
      "newlistingcount_yy        37011 non-null float64\n",
      "priceincreasecount        37011 non-null int64\n",
      "priceincreasecount_mm     37011 non-null float64\n",
      "priceincreasecount_yy     37011 non-null float64\n",
      "pricedecreasecount        37011 non-null int64\n",
      "pricedecreasecount_mm     37011 non-null float64\n",
      "pricedecreasecount_yy     37011 non-null float64\n",
      "pendinglistingcount       37011 non-null float64\n",
      "pendinglistingcount_mm    37011 non-null float64\n",
      "pendinglistingcount_yy    37011 non-null float64\n",
      "avglistingprice           37011 non-null int64\n",
      "avglistingprice_mm        37011 non-null float64\n",
      "avglistingprice_yy        37011 non-null float64\n",
      "totallistingcount         37011 non-null float64\n",
      "totallistingcount_mm      37011 non-null float64\n",
      "totallistingcount_yy      37011 non-null float64\n",
      "pendingratio              37011 non-null float64\n",
      "pendingratio_mm           37011 non-null float64\n",
      "pendingratio_yy           37011 non-null float64\n",
      "City                      37011 non-null object\n",
      "State                     37011 non-null object\n",
      "month_no                  37011 non-null int64\n",
      "year                      37011 non-null int64\n",
      "y_median                  37011 non-null int64\n",
      "y_mean                    37011 non-null int64\n",
      "dtypes: datetime64[ns](1), float64(26), int64(9), object(3)\n",
      "memory usage: 11.0+ MB\n"
     ]
    }
   ],
   "source": [
    "il_df.info()"
   ]
  },
  {
   "cell_type": "code",
   "execution_count": 5,
   "metadata": {
    "scrolled": true
   },
   "outputs": [
    {
     "data": {
      "text/plain": [
       "Index(['entry_date', 'zipcode', 'city-state', 'medianlistingprice',\n",
       "       'medianlistingprice_mm', 'medianlistingprice_yy', 'activelistingcount',\n",
       "       'activelistingcount_mm', 'activelistingcount_yy', 'daysonmarket',\n",
       "       'daysonmarket_mm', 'daysonmarket_yy', 'newlistingcount',\n",
       "       'newlistingcount_mm', 'newlistingcount_yy', 'priceincreasecount',\n",
       "       'priceincreasecount_mm', 'priceincreasecount_yy', 'pricedecreasecount',\n",
       "       'pricedecreasecount_mm', 'pricedecreasecount_yy', 'pendinglistingcount',\n",
       "       'pendinglistingcount_mm', 'pendinglistingcount_yy', 'avglistingprice',\n",
       "       'avglistingprice_mm', 'avglistingprice_yy', 'totallistingcount',\n",
       "       'totallistingcount_mm', 'totallistingcount_yy', 'pendingratio',\n",
       "       'pendingratio_mm', 'pendingratio_yy', 'City', 'State', 'month_no',\n",
       "       'year', 'y_median', 'y_mean'],\n",
       "      dtype='object')"
      ]
     },
     "execution_count": 5,
     "metadata": {},
     "output_type": "execute_result"
    }
   ],
   "source": [
    "il_df.columns"
   ]
  },
  {
   "cell_type": "code",
   "execution_count": 6,
   "metadata": {},
   "outputs": [],
   "source": [
    "# drop unnecessary columns\n",
    "\n",
    "il_df = il_df.drop(['y_mean'], axis =1)"
   ]
  },
  {
   "cell_type": "code",
   "execution_count": 7,
   "metadata": {},
   "outputs": [],
   "source": [
    "# create safety dataframe\n",
    "\n",
    "il_df_OG = il_df"
   ]
  },
  {
   "cell_type": "code",
   "execution_count": 8,
   "metadata": {},
   "outputs": [],
   "source": [
    "# drop non-numerical columns\n",
    "il_df = il_df.drop(['entry_date', 'city-state', 'State', 'City', 'month_no','year'], axis =1)"
   ]
  },
  {
   "cell_type": "code",
   "execution_count": 9,
   "metadata": {},
   "outputs": [],
   "source": [
    "il_df = il_df.drop(['zipcode' ], axis =1)"
   ]
  },
  {
   "cell_type": "code",
   "execution_count": null,
   "metadata": {},
   "outputs": [],
   "source": [
    "# for the first pass, keep the DOM metrics in the data and then remove later"
   ]
  },
  {
   "cell_type": "markdown",
   "metadata": {},
   "source": [
    "BD: remove zip code from model because Python will read it as an integer because it is a categorical variable but it doesn't add to the model as much as other features"
   ]
  },
  {
   "cell_type": "code",
   "execution_count": 10,
   "metadata": {},
   "outputs": [],
   "source": [
    "# target vector\n",
    "y = il_df['y_median']\n",
    "\n",
    "# feature matrix\n",
    "X = il_df.drop(['y_median'], axis=1)"
   ]
  },
  {
   "cell_type": "code",
   "execution_count": 11,
   "metadata": {},
   "outputs": [],
   "source": [
    "# train-test split\n",
    "X_train, X_test, y_train, y_test = train_test_split(X, y, \n",
    "                                                    test_size = 0.2, random_state=4444)"
   ]
  },
  {
   "cell_type": "code",
   "execution_count": 12,
   "metadata": {},
   "outputs": [
    {
     "name": "stdout",
     "output_type": "stream",
     "text": [
      "<class 'pandas.core.frame.DataFrame'>\n",
      "RangeIndex: 37011 entries, 0 to 37010\n",
      "Data columns (total 30 columns):\n",
      "medianlistingprice        37011 non-null float64\n",
      "medianlistingprice_mm     37011 non-null float64\n",
      "medianlistingprice_yy     37011 non-null float64\n",
      "activelistingcount        37011 non-null float64\n",
      "activelistingcount_mm     37011 non-null float64\n",
      "activelistingcount_yy     37011 non-null float64\n",
      "daysonmarket              37011 non-null float64\n",
      "daysonmarket_mm           37011 non-null float64\n",
      "daysonmarket_yy           37011 non-null float64\n",
      "newlistingcount           37011 non-null int64\n",
      "newlistingcount_mm        37011 non-null float64\n",
      "newlistingcount_yy        37011 non-null float64\n",
      "priceincreasecount        37011 non-null int64\n",
      "priceincreasecount_mm     37011 non-null float64\n",
      "priceincreasecount_yy     37011 non-null float64\n",
      "pricedecreasecount        37011 non-null int64\n",
      "pricedecreasecount_mm     37011 non-null float64\n",
      "pricedecreasecount_yy     37011 non-null float64\n",
      "pendinglistingcount       37011 non-null float64\n",
      "pendinglistingcount_mm    37011 non-null float64\n",
      "pendinglistingcount_yy    37011 non-null float64\n",
      "avglistingprice           37011 non-null int64\n",
      "avglistingprice_mm        37011 non-null float64\n",
      "avglistingprice_yy        37011 non-null float64\n",
      "totallistingcount         37011 non-null float64\n",
      "totallistingcount_mm      37011 non-null float64\n",
      "totallistingcount_yy      37011 non-null float64\n",
      "pendingratio              37011 non-null float64\n",
      "pendingratio_mm           37011 non-null float64\n",
      "pendingratio_yy           37011 non-null float64\n",
      "dtypes: float64(26), int64(4)\n",
      "memory usage: 8.5 MB\n"
     ]
    }
   ],
   "source": [
    "X.info()"
   ]
  },
  {
   "cell_type": "markdown",
   "metadata": {},
   "source": [
    "# Baseline models"
   ]
  },
  {
   "cell_type": "markdown",
   "metadata": {},
   "source": [
    "## Dummy Classifier"
   ]
  },
  {
   "cell_type": "markdown",
   "metadata": {},
   "source": [
    "DummyClassifier is a classifier that makes predictions using simple rules.\n",
    "\n",
    "This classifier is useful as a simple baseline to compare with other (real) classifiers."
   ]
  },
  {
   "cell_type": "code",
   "execution_count": 13,
   "metadata": {},
   "outputs": [],
   "source": [
    "from sklearn.dummy import DummyClassifier"
   ]
  },
  {
   "cell_type": "code",
   "execution_count": 14,
   "metadata": {},
   "outputs": [
    {
     "name": "stdout",
     "output_type": "stream",
     "text": [
      "Recall on dummy classifier: 0.5002\n",
      "Precision on dummy classifier: 0.4994\n",
      "Accuracy on dummy classifier: 0.5006\n"
     ]
    }
   ],
   "source": [
    "dclf = DummyClassifier( random_state = 0)\n",
    "dclf.fit(X_train, y_train)\n",
    "#score = dclf.score(X3_val, y3_val)\n",
    "\n",
    "# perform 10 fols CV\n",
    "print(\"Recall on dummy classifier: {:6.4f}\".format(cross_val_score(dclf, X_train, y_train, cv=10,scoring=\"recall\").mean()))\n",
    "print(\"Precision on dummy classifier: {:6.4f}\".format(cross_val_score(dclf, X_train, y_train, cv=10,scoring=\"precision\").mean()))\n",
    "print(\"Accuracy on dummy classifier: {:6.4f}\".format(cross_val_score(dclf, X_train, y_train, cv=10,scoring=\"accuracy\").mean()))"
   ]
  },
  {
   "cell_type": "markdown",
   "metadata": {
    "heading_collapsed": true
   },
   "source": [
    "## Gaussian Naive Bayes Classifier"
   ]
  },
  {
   "cell_type": "code",
   "execution_count": 16,
   "metadata": {
    "hidden": true,
    "scrolled": true
   },
   "outputs": [
    {
     "name": "stdout",
     "output_type": "stream",
     "text": [
      "0.5889504255031743\n",
      "Accuracy on Gaussian Naive Bayes: 0.5890\n"
     ]
    }
   ],
   "source": [
    "gauss = GaussianNB()\n",
    "gauss.fit(X_train,y_train)\n",
    "guass_acc = gauss.score(X_test, y_test)\n",
    "print(gauss.score(X_test, y_test))\n",
    "print(\"Accuracy on Gaussian Naive Bayes: {:6.4f}\".format(guass_acc))"
   ]
  },
  {
   "cell_type": "markdown",
   "metadata": {
    "heading_collapsed": true
   },
   "source": [
    "## SVM Classifier"
   ]
  },
  {
   "cell_type": "code",
   "execution_count": 23,
   "metadata": {
    "hidden": true
   },
   "outputs": [
    {
     "name": "stderr",
     "output_type": "stream",
     "text": [
      "/Users/ronald-daley/anaconda3/anaconda3/lib/python3.7/site-packages/sklearn/svm/base.py:193: FutureWarning: The default value of gamma will change from 'auto' to 'scale' in version 0.22 to account better for unscaled features. Set gamma explicitly to 'auto' or 'scale' to avoid this warning.\n",
      "  \"avoid this warning.\", FutureWarning)\n"
     ]
    },
    {
     "data": {
      "text/plain": [
       "0.4953397271376469"
      ]
     },
     "execution_count": 23,
     "metadata": {},
     "output_type": "execute_result"
    }
   ],
   "source": [
    "sv = SVC()\n",
    "sv.fit(X_train,y_train)\n",
    "sv_acc = sv.score(X_test, y_test)\n",
    "sv_acc"
   ]
  },
  {
   "cell_type": "markdown",
   "metadata": {
    "heading_collapsed": true
   },
   "source": [
    "## Decision Tree Classifier"
   ]
  },
  {
   "cell_type": "code",
   "execution_count": 22,
   "metadata": {
    "hidden": true
   },
   "outputs": [
    {
     "name": "stdout",
     "output_type": "stream",
     "text": [
      "Accuracy on Decision Tree: 1.0000\n"
     ]
    }
   ],
   "source": [
    "dtc = DecisionTreeClassifier()\n",
    "dtc.fit(X_train,y_train)\n",
    "dtc_acc = dtc.score(X_test, y_test)\n",
    "print(\"Accuracy on Decision Tree: {:6.4f}\".format(dtc_acc))"
   ]
  },
  {
   "cell_type": "markdown",
   "metadata": {
    "heading_collapsed": true
   },
   "source": [
    "## Random Forest Classifier"
   ]
  },
  {
   "cell_type": "code",
   "execution_count": null,
   "metadata": {
    "hidden": true
   },
   "outputs": [],
   "source": [
    "# drop DOM features"
   ]
  },
  {
   "cell_type": "code",
   "execution_count": 21,
   "metadata": {
    "hidden": true
   },
   "outputs": [],
   "source": [
    "# drop demand columns\n",
    "X_train_rfc = X_train.drop(['daysonmarket','daysonmarket_mm','daysonmarket_yy'], axis =1)\n",
    "X_test_rfc = X_test.drop(['daysonmarket','daysonmarket_mm','daysonmarket_yy'], axis =1)\n"
   ]
  },
  {
   "cell_type": "code",
   "execution_count": 20,
   "metadata": {
    "hidden": true
   },
   "outputs": [
    {
     "name": "stderr",
     "output_type": "stream",
     "text": [
      "/Users/ronald-daley/anaconda3/anaconda3/lib/python3.7/site-packages/sklearn/ensemble/forest.py:245: FutureWarning: The default value of n_estimators will change from 10 in version 0.20 to 100 in 0.22.\n",
      "  \"10 in version 0.20 to 100 in 0.22.\", FutureWarning)\n"
     ]
    },
    {
     "name": "stdout",
     "output_type": "stream",
     "text": [
      "Accuracy on Random Forest: 0.6523\n"
     ]
    }
   ],
   "source": [
    "rfc = RandomForestClassifier()\n",
    "rfc.fit(X_train_rfc,y_train)\n",
    "rfc_acc = rfc.score(X_test_rfc, y_test)\n",
    "print(\"Accuracy on Random Forest: {:6.4f}\".format(rfc_acc))"
   ]
  },
  {
   "cell_type": "markdown",
   "metadata": {
    "heading_collapsed": true
   },
   "source": [
    "## KNN Classifier"
   ]
  },
  {
   "cell_type": "code",
   "execution_count": 20,
   "metadata": {
    "hidden": true
   },
   "outputs": [
    {
     "name": "stdout",
     "output_type": "stream",
     "text": [
      "Accuracy on KNN: 0.5047\n"
     ]
    }
   ],
   "source": [
    "knn = KNeighborsClassifier() # default k = 5\n",
    "knn.fit(X_train,y_train)\n",
    "knn_acc = knn.score(X_test, y_test)\n",
    "print(\"Accuracy on KNN: {:6.4f}\".format(knn_acc))"
   ]
  },
  {
   "cell_type": "markdown",
   "metadata": {
    "heading_collapsed": true
   },
   "source": [
    "## Logistic Regression Classifier"
   ]
  },
  {
   "cell_type": "code",
   "execution_count": 16,
   "metadata": {
    "hidden": true
   },
   "outputs": [
    {
     "name": "stdout",
     "output_type": "stream",
     "text": [
      "Accuracy on Logistic Regression: 0.6347\n"
     ]
    }
   ],
   "source": [
    "logreg = LogisticRegression(solver = 'liblinear')\n",
    "logreg.fit(X_train,y_train)\n",
    "logreg_acc = logreg.score(X_test, y_test)\n",
    "print(\"Accuracy on Logistic Regression: {:6.4f}\".format(logreg_acc))"
   ]
  },
  {
   "cell_type": "code",
   "execution_count": 17,
   "metadata": {
    "hidden": true
   },
   "outputs": [
    {
     "data": {
      "text/plain": [
       "0.6389827073763847"
      ]
     },
     "execution_count": 17,
     "metadata": {},
     "output_type": "execute_result"
    }
   ],
   "source": [
    "# score on the training data\n",
    "\n",
    "logreg.score(X_train, y_train)"
   ]
  },
  {
   "cell_type": "code",
   "execution_count": 18,
   "metadata": {
    "hidden": true
   },
   "outputs": [
    {
     "data": {
      "text/plain": [
       "0.6379011498631502"
      ]
     },
     "execution_count": 18,
     "metadata": {},
     "output_type": "execute_result"
    }
   ],
   "source": [
    "# Train Data CV score\n",
    "cross_val_score(logreg, X_train, y_train, cv=5, scoring='accuracy').mean()\n"
   ]
  },
  {
   "cell_type": "code",
   "execution_count": 19,
   "metadata": {
    "hidden": true
   },
   "outputs": [
    {
     "data": {
      "text/plain": [
       "0.8710955824019543"
      ]
     },
     "execution_count": 19,
     "metadata": {},
     "output_type": "execute_result"
    }
   ],
   "source": [
    "# Test Data CV score\n",
    "cross_val_score(logreg, X_test, y_test, cv=5, scoring='accuracy').mean()\n"
   ]
  },
  {
   "cell_type": "code",
   "execution_count": null,
   "metadata": {
    "hidden": true
   },
   "outputs": [],
   "source": [
    "# Overfitting on the test data. Will need to do some regularization to improve"
   ]
  },
  {
   "cell_type": "code",
   "execution_count": 1,
   "metadata": {
    "hidden": true
   },
   "outputs": [],
   "source": [
    "# Dummy Classifier Accuracy = 0.5006\n",
    "# Naive Bayes Accuracy = 0.589 (Dive Deeper)\n",
    "# SVM Accuracy = 0.495\n",
    "# Decision Tree Accuracy = 1.00 (overfitting)\n",
    "# Random Forest Accuracy = 0.9996\n",
    "# KNN Accuracy (k=5) = 0.5047\n",
    "# Logistic Regression Accuracy = 0.643 (Dive Deeper)"
   ]
  },
  {
   "cell_type": "code",
   "execution_count": 2,
   "metadata": {
    "hidden": true
   },
   "outputs": [],
   "source": [
    "# BD: Naive Bayes and Logistic Regression"
   ]
  },
  {
   "cell_type": "code",
   "execution_count": null,
   "metadata": {
    "hidden": true
   },
   "outputs": [],
   "source": []
  }
 ],
 "metadata": {
  "kernelspec": {
   "display_name": "Python 3",
   "language": "python",
   "name": "python3"
  },
  "language_info": {
   "codemirror_mode": {
    "name": "ipython",
    "version": 3
   },
   "file_extension": ".py",
   "mimetype": "text/x-python",
   "name": "python",
   "nbconvert_exporter": "python",
   "pygments_lexer": "ipython3",
   "version": "3.7.3"
  },
  "toc": {
   "base_numbering": 1,
   "nav_menu": {},
   "number_sections": true,
   "sideBar": true,
   "skip_h1_title": false,
   "title_cell": "Table of Contents",
   "title_sidebar": "Contents",
   "toc_cell": false,
   "toc_position": {},
   "toc_section_display": true,
   "toc_window_display": true
  },
  "varInspector": {
   "cols": {
    "lenName": 16,
    "lenType": 16,
    "lenVar": 40
   },
   "kernels_config": {
    "python": {
     "delete_cmd_postfix": "",
     "delete_cmd_prefix": "del ",
     "library": "var_list.py",
     "varRefreshCmd": "print(var_dic_list())"
    },
    "r": {
     "delete_cmd_postfix": ") ",
     "delete_cmd_prefix": "rm(",
     "library": "var_list.r",
     "varRefreshCmd": "cat(var_dic_list()) "
    }
   },
   "types_to_exclude": [
    "module",
    "function",
    "builtin_function_or_method",
    "instance",
    "_Feature"
   ],
   "window_display": false
  }
 },
 "nbformat": 4,
 "nbformat_minor": 2
}
